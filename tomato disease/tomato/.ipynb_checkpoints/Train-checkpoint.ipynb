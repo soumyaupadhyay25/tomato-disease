{
 "cells": [
  {
   "cell_type": "code",
   "execution_count": 1,
   "id": "a89e268e-a356-46f2-af1b-fdbd587a949c",
   "metadata": {},
   "outputs": [],
   "source": [
    "#Part 1 : Building a CNN\n",
    "\n",
    "#import Keras packages\n",
    "from keras.models import Sequential\n",
    "from keras.layers import Convolution2D\n",
    "from keras.layers import MaxPooling2D\n",
    "from keras.layers import Flatten\n",
    "from keras.layers import Dense\n",
    "from keras.layers import Dropout\n",
    "import numpy as np\n",
    "from tensorflow.keras.utils import plot_model\n",
    "import tensorflow as tf\n",
    "\n"
   ]
  },
  {
   "cell_type": "code",
   "execution_count": 2,
   "id": "fefa47c8-ed76-4e75-a74e-e864823990a6",
   "metadata": {},
   "outputs": [
    {
     "name": "stdout",
     "output_type": "stream",
     "text": [
      "Found 10000 files belonging to 10 classes.\n"
     ]
    }
   ],
   "source": [
    "training_set = tf.keras.utils.image_dataset_from_directory(\n",
    "    'train',\n",
    "    labels=\"inferred\",\n",
    "    label_mode=\"categorical\",\n",
    "    class_names=None,\n",
    "    color_mode=\"rgb\",\n",
    "    batch_size=32,\n",
    "    image_size=(128, 128),\n",
    "    shuffle=True,\n",
    "    seed=None,\n",
    "    validation_split=None,\n",
    "    subset=None,\n",
    "    interpolation=\"bilinear\",\n",
    "    follow_links=False,\n",
    "    crop_to_aspect_ratio=False,\n",
    ")"
   ]
  },
  {
   "cell_type": "code",
   "execution_count": 3,
   "id": "544520ef-f41c-4950-98df-efdc2532d99d",
   "metadata": {},
   "outputs": [
    {
     "name": "stdout",
     "output_type": "stream",
     "text": [
      "Found 1008 files belonging to 10 classes.\n"
     ]
    }
   ],
   "source": [
    "validation_set = tf.keras.utils.image_dataset_from_directory(\n",
    "    'valid',\n",
    "    labels=\"inferred\",\n",
    "    label_mode=\"categorical\",\n",
    "    class_names=None,\n",
    "    color_mode=\"rgb\",\n",
    "    batch_size=32,\n",
    "    image_size=(128, 128),\n",
    "    shuffle=True,\n",
    "    seed=None,\n",
    "    validation_split=None,\n",
    "    subset=None,\n",
    "    interpolation=\"bilinear\",\n",
    "    follow_links=False,\n",
    "    crop_to_aspect_ratio=False,\n",
    ")"
   ]
  },
  {
   "cell_type": "code",
   "execution_count": 4,
   "id": "963d1300-5909-40d8-b65e-a6d4c6bbd2c1",
   "metadata": {},
   "outputs": [
    {
     "data": {
      "text/plain": [
       "<_PrefetchDataset element_spec=(TensorSpec(shape=(None, 128, 128, 3), dtype=tf.float32, name=None), TensorSpec(shape=(None, 10), dtype=tf.float32, name=None))>"
      ]
     },
     "execution_count": 4,
     "metadata": {},
     "output_type": "execute_result"
    }
   ],
   "source": [
    "training_set"
   ]
  },
  {
   "cell_type": "code",
   "execution_count": 5,
   "id": "fe6aacc6-61bc-41cf-962f-aa519780901f",
   "metadata": {},
   "outputs": [
    {
     "name": "stdout",
     "output_type": "stream",
     "text": [
      "tf.Tensor(\n",
      "[[[[111.25 100.25 114.25]\n",
      "   [110.    99.   113.  ]\n",
      "   [114.25 103.25 117.25]\n",
      "   ...\n",
      "   [175.25 164.25 181.25]\n",
      "   [177.25 166.25 183.25]\n",
      "   [162.25 151.25 168.25]]\n",
      "\n",
      "  [[114.   103.   117.  ]\n",
      "   [108.25  97.25 111.25]\n",
      "   [108.75  97.75 111.75]\n",
      "   ...\n",
      "   [176.   165.   182.  ]\n",
      "   [176.5  165.5  182.5 ]\n",
      "   [179.5  168.5  185.5 ]]\n",
      "\n",
      "  [[113.   102.   116.  ]\n",
      "   [110.25  99.25 113.25]\n",
      "   [114.   103.   117.  ]\n",
      "   ...\n",
      "   [174.   163.   180.  ]\n",
      "   [177.   166.   183.  ]\n",
      "   [187.5  176.5  193.5 ]]\n",
      "\n",
      "  ...\n",
      "\n",
      "  [[ 96.75  91.75 114.75]\n",
      "   [ 99.    94.   117.  ]\n",
      "   [104.75  99.75 122.75]\n",
      "   ...\n",
      "   [161.75 151.75 176.75]\n",
      "   [164.5  154.5  179.5 ]\n",
      "   [160.75 150.75 175.75]]\n",
      "\n",
      "  [[ 99.5   94.5  117.5 ]\n",
      "   [107.5  102.5  125.5 ]\n",
      "   [111.5  106.5  129.5 ]\n",
      "   ...\n",
      "   [153.5  143.5  168.5 ]\n",
      "   [158.5  148.5  173.5 ]\n",
      "   [157.5  147.5  172.5 ]]\n",
      "\n",
      "  [[ 99.5   94.5  117.5 ]\n",
      "   [106.25 101.25 124.25]\n",
      "   [104.5   99.5  122.5 ]\n",
      "   ...\n",
      "   [155.   145.   170.  ]\n",
      "   [162.75 152.75 177.75]\n",
      "   [154.   144.   169.  ]]]\n",
      "\n",
      "\n",
      " [[[156.25 150.25 152.25]\n",
      "   [143.   137.   139.  ]\n",
      "   [165.5  159.5  161.5 ]\n",
      "   ...\n",
      "   [147.5  143.5  157.5 ]\n",
      "   [179.5  175.5  189.5 ]\n",
      "   [143.5  139.5  153.5 ]]\n",
      "\n",
      "  [[152.75 146.75 148.75]\n",
      "   [150.   144.   146.  ]\n",
      "   [147.25 141.25 143.25]\n",
      "   ...\n",
      "   [159.75 155.75 169.75]\n",
      "   [178.5  174.5  188.25]\n",
      "   [163.25 159.25 173.25]]\n",
      "\n",
      "  [[146.25 140.25 144.25]\n",
      "   [135.75 129.75 133.75]\n",
      "   [158.75 152.75 156.75]\n",
      "   ...\n",
      "   [151.5  147.5  161.5 ]\n",
      "   [151.5  147.5  161.5 ]\n",
      "   [162.   158.   172.  ]]\n",
      "\n",
      "  ...\n",
      "\n",
      "  [[114.   104.   113.  ]\n",
      "   [130.25 120.25 129.25]\n",
      "   [112.75 102.75 111.75]\n",
      "   ...\n",
      "   [107.25  99.25 112.25]\n",
      "   [120.25 112.25 125.25]\n",
      "   [147.   139.   152.  ]]\n",
      "\n",
      "  [[127.75 117.75 126.75]\n",
      "   [109.25  99.25 108.25]\n",
      "   [101.25  91.25 100.25]\n",
      "   ...\n",
      "   [ 94.5   86.5   99.5 ]\n",
      "   [108.5  100.5  113.5 ]\n",
      "   [106.5   98.5  111.5 ]]\n",
      "\n",
      "  [[126.   116.   125.  ]\n",
      "   [119.25 109.25 118.25]\n",
      "   [126.25 116.25 125.25]\n",
      "   ...\n",
      "   [109.75 101.75 114.75]\n",
      "   [128.25 120.25 133.25]\n",
      "   [110.   102.   115.  ]]]\n",
      "\n",
      "\n",
      " [[[154.5  150.5  151.5 ]\n",
      "   [157.75 153.75 154.75]\n",
      "   [161.5  157.5  158.5 ]\n",
      "   ...\n",
      "   [163.5  157.5  159.5 ]\n",
      "   [162.25 156.25 158.25]\n",
      "   [164.5  158.5  160.5 ]]\n",
      "\n",
      "  [[155.25 151.25 152.25]\n",
      "   [160.75 156.75 157.75]\n",
      "   [161.   157.   158.  ]\n",
      "   ...\n",
      "   [161.5  155.5  157.5 ]\n",
      "   [168.75 162.75 164.75]\n",
      "   [164.75 158.75 160.75]]\n",
      "\n",
      "  [[158.25 154.25 155.25]\n",
      "   [158.75 154.75 155.75]\n",
      "   [155.75 151.75 152.75]\n",
      "   ...\n",
      "   [159.75 153.75 155.75]\n",
      "   [157.5  151.5  153.5 ]\n",
      "   [167.5  161.5  163.5 ]]\n",
      "\n",
      "  ...\n",
      "\n",
      "  [[110.5  100.5   99.5 ]\n",
      "   [112.75 102.75 101.75]\n",
      "   [113.25 103.25 102.25]\n",
      "   ...\n",
      "   [102.5   92.5   91.5 ]\n",
      "   [101.75  91.75  90.75]\n",
      "   [111.5  101.5  100.5 ]]\n",
      "\n",
      "  [[114.5  104.5  103.5 ]\n",
      "   [110.   100.    99.  ]\n",
      "   [111.   101.   100.  ]\n",
      "   ...\n",
      "   [104.75  94.75  93.75]\n",
      "   [117.   107.   106.  ]\n",
      "   [106.75  96.75  95.75]]\n",
      "\n",
      "  [[110.75 100.75  99.75]\n",
      "   [111.5  101.5  100.5 ]\n",
      "   [111.75 101.75 100.75]\n",
      "   ...\n",
      "   [115.5  105.5  104.5 ]\n",
      "   [110.75 100.75  99.75]\n",
      "   [108.75  98.75  97.75]]]\n",
      "\n",
      "\n",
      " ...\n",
      "\n",
      "\n",
      " [[[109.   109.   111.  ]\n",
      "   [103.25 103.25 105.25]\n",
      "   [104.75 104.75 106.75]\n",
      "   ...\n",
      "   [133.25 132.25 128.25]\n",
      "   [130.   129.   125.  ]\n",
      "   [133.5  132.5  128.5 ]]\n",
      "\n",
      "  [[115.   115.   117.  ]\n",
      "   [107.25 107.25 109.25]\n",
      "   [102.   102.   104.  ]\n",
      "   ...\n",
      "   [135.5  134.5  130.5 ]\n",
      "   [136.25 135.25 131.25]\n",
      "   [133.25 132.25 128.25]]\n",
      "\n",
      "  [[108.   108.   110.  ]\n",
      "   [103.75 103.75 105.75]\n",
      "   [111.5  111.5  113.5 ]\n",
      "   ...\n",
      "   [132.25 131.25 127.25]\n",
      "   [133.   132.   128.  ]\n",
      "   [133.5  132.5  128.5 ]]\n",
      "\n",
      "  ...\n",
      "\n",
      "  [[121.5  122.5  116.5 ]\n",
      "   [117.75 118.75 112.75]\n",
      "   [124.   125.   119.  ]\n",
      "   ...\n",
      "   [149.   150.   144.  ]\n",
      "   [152.75 153.75 147.75]\n",
      "   [155.5  156.5  150.5 ]]\n",
      "\n",
      "  [[123.25 124.25 118.25]\n",
      "   [130.5  131.5  125.5 ]\n",
      "   [121.5  122.5  116.5 ]\n",
      "   ...\n",
      "   [149.25 150.25 144.25]\n",
      "   [148.5  149.5  143.5 ]\n",
      "   [146.   147.   141.  ]]\n",
      "\n",
      "  [[123.75 124.75 118.75]\n",
      "   [130.25 131.25 125.25]\n",
      "   [117.75 118.75 112.75]\n",
      "   ...\n",
      "   [148.5  149.5  143.5 ]\n",
      "   [147.   148.   142.  ]\n",
      "   [142.5  143.5  137.5 ]]]\n",
      "\n",
      "\n",
      " [[[126.   124.   125.  ]\n",
      "   [125.25 123.25 124.25]\n",
      "   [128.   126.   129.  ]\n",
      "   ...\n",
      "   [178.25 187.25 194.25]\n",
      "   [179.   188.   195.  ]\n",
      "   [183.5  192.5  199.5 ]]\n",
      "\n",
      "  [[135.75 133.75 134.75]\n",
      "   [134.5  132.5  133.5 ]\n",
      "   [133.25 131.25 134.25]\n",
      "   ...\n",
      "   [180.75 189.75 196.75]\n",
      "   [181.25 190.25 197.25]\n",
      "   [181.   190.   197.  ]]\n",
      "\n",
      "  [[128.75 126.75 127.75]\n",
      "   [131.75 129.75 130.75]\n",
      "   [131.   129.   132.  ]\n",
      "   ...\n",
      "   [181.5  190.5  197.5 ]\n",
      "   [182.25 191.25 198.25]\n",
      "   [180.5  189.5  196.5 ]]\n",
      "\n",
      "  ...\n",
      "\n",
      "  [[125.5  128.5  137.5 ]\n",
      "   [127.   130.   139.  ]\n",
      "   [132.75 135.75 144.75]\n",
      "   ...\n",
      "   [173.25 185.25 201.25]\n",
      "   [170.75 182.75 198.75]\n",
      "   [166.75 178.75 194.75]]\n",
      "\n",
      "  [[125.   128.   137.  ]\n",
      "   [129.75 132.75 141.75]\n",
      "   [131.5  134.5  143.5 ]\n",
      "   ...\n",
      "   [174.75 186.75 202.75]\n",
      "   [172.75 184.75 200.75]\n",
      "   [167.75 179.75 195.75]]\n",
      "\n",
      "  [[120.5  123.5  132.5 ]\n",
      "   [129.75 132.75 141.75]\n",
      "   [132.75 135.75 144.75]\n",
      "   ...\n",
      "   [173.   185.   201.  ]\n",
      "   [173.25 185.25 201.25]\n",
      "   [172.25 184.25 200.25]]]\n",
      "\n",
      "\n",
      " [[[165.5  155.5  164.5 ]\n",
      "   [158.5  148.5  157.5 ]\n",
      "   [158.5  148.5  157.5 ]\n",
      "   ...\n",
      "   [128.75 118.75 126.75]\n",
      "   [132.   122.   130.  ]\n",
      "   [136.   126.   134.  ]]\n",
      "\n",
      "  [[154.75 144.75 153.75]\n",
      "   [153.5  143.5  152.5 ]\n",
      "   [157.5  147.5  156.5 ]\n",
      "   ...\n",
      "   [126.25 116.25 124.25]\n",
      "   [130.25 120.25 128.25]\n",
      "   [131.   121.   129.  ]]\n",
      "\n",
      "  [[152.75 142.75 151.75]\n",
      "   [152.   142.   151.  ]\n",
      "   [151.75 141.75 150.75]\n",
      "   ...\n",
      "   [124.   114.   122.  ]\n",
      "   [125.   115.   123.  ]\n",
      "   [131.   121.   129.  ]]\n",
      "\n",
      "  ...\n",
      "\n",
      "  [[140.   129.   137.  ]\n",
      "   [137.75 126.75 134.75]\n",
      "   [133.75 122.75 130.75]\n",
      "   ...\n",
      "   [104.25  93.25 101.25]\n",
      "   [101.    90.    98.  ]\n",
      "   [114.   103.   111.  ]]\n",
      "\n",
      "  [[135.   124.   132.  ]\n",
      "   [141.5  130.5  138.5 ]\n",
      "   [139.5  128.5  136.5 ]\n",
      "   ...\n",
      "   [113.75 102.75 110.75]\n",
      "   [107.75  96.75 104.75]\n",
      "   [105.75  94.75 102.75]]\n",
      "\n",
      "  [[140.5  129.5  137.5 ]\n",
      "   [138.5  127.5  135.5 ]\n",
      "   [136.   125.   133.  ]\n",
      "   ...\n",
      "   [107.    96.   104.  ]\n",
      "   [101.5   90.5   98.5 ]\n",
      "   [111.25 100.25 108.25]]]], shape=(32, 128, 128, 3), dtype=float32) (32, 128, 128, 3)\n",
      "tf.Tensor(\n",
      "[[0. 0. 0. 0. 1. 0. 0. 0. 0. 0.]\n",
      " [0. 0. 0. 0. 0. 0. 0. 0. 0. 1.]\n",
      " [1. 0. 0. 0. 0. 0. 0. 0. 0. 0.]\n",
      " [0. 0. 0. 0. 0. 0. 1. 0. 0. 0.]\n",
      " [1. 0. 0. 0. 0. 0. 0. 0. 0. 0.]\n",
      " [0. 0. 0. 0. 0. 0. 0. 1. 0. 0.]\n",
      " [0. 0. 0. 0. 1. 0. 0. 0. 0. 0.]\n",
      " [0. 0. 0. 0. 0. 1. 0. 0. 0. 0.]\n",
      " [0. 0. 0. 0. 1. 0. 0. 0. 0. 0.]\n",
      " [0. 0. 0. 0. 0. 0. 0. 0. 0. 1.]\n",
      " [0. 0. 0. 0. 0. 0. 0. 1. 0. 0.]\n",
      " [0. 0. 0. 0. 0. 0. 0. 0. 0. 1.]\n",
      " [0. 0. 0. 1. 0. 0. 0. 0. 0. 0.]\n",
      " [0. 0. 0. 0. 0. 0. 1. 0. 0. 0.]\n",
      " [0. 0. 0. 0. 0. 0. 0. 1. 0. 0.]\n",
      " [0. 0. 0. 0. 0. 0. 0. 1. 0. 0.]\n",
      " [0. 0. 1. 0. 0. 0. 0. 0. 0. 0.]\n",
      " [0. 0. 0. 0. 1. 0. 0. 0. 0. 0.]\n",
      " [0. 0. 0. 0. 1. 0. 0. 0. 0. 0.]\n",
      " [0. 0. 0. 0. 0. 0. 1. 0. 0. 0.]\n",
      " [0. 0. 0. 0. 0. 1. 0. 0. 0. 0.]\n",
      " [0. 0. 0. 0. 1. 0. 0. 0. 0. 0.]\n",
      " [0. 0. 0. 0. 0. 0. 0. 0. 0. 1.]\n",
      " [0. 0. 0. 0. 0. 0. 0. 0. 1. 0.]\n",
      " [0. 0. 0. 1. 0. 0. 0. 0. 0. 0.]\n",
      " [0. 0. 0. 1. 0. 0. 0. 0. 0. 0.]\n",
      " [0. 1. 0. 0. 0. 0. 0. 0. 0. 0.]\n",
      " [0. 0. 0. 0. 0. 1. 0. 0. 0. 0.]\n",
      " [1. 0. 0. 0. 0. 0. 0. 0. 0. 0.]\n",
      " [1. 0. 0. 0. 0. 0. 0. 0. 0. 0.]\n",
      " [0. 1. 0. 0. 0. 0. 0. 0. 0. 0.]\n",
      " [1. 0. 0. 0. 0. 0. 0. 0. 0. 0.]], shape=(32, 10), dtype=float32) (32, 10)\n"
     ]
    }
   ],
   "source": [
    "for x,y in training_set:\n",
    "    print(x,x.shape)\n",
    "    print(y,y.shape)\n",
    "    break"
   ]
  },
  {
   "cell_type": "code",
   "execution_count": 6,
   "id": "16e4ff47-3fdf-4c0d-aae2-aeb73fc310f6",
   "metadata": {},
   "outputs": [],
   "source": [
    "from keras.models import Sequential\n",
    "from keras.layers import Convolution2D, MaxPooling2D, Input\n",
    "\n",
    "np.random.seed(1337)\n",
    "\n",
    "classifier = Sequential()\n",
    "\n",
    "# Add the input layer explicitly using Input()\n",
    "classifier.add(Input(shape=(128, 128, 3)))\n",
    "\n",
    "classifier.add(Convolution2D(32, (3, 3), activation='relu'))\n",
    "classifier.add(MaxPooling2D(pool_size=(2, 2)))\n",
    "classifier.add(Convolution2D(16, (3, 3), activation='relu'))\n",
    "classifier.add(MaxPooling2D(pool_size=(2, 2), padding='same'))\n",
    "\n",
    "classifier.add(Convolution2D(8, (3, 3), activation='relu'))\n",
    "classifier.add(MaxPooling2D(pool_size=(2, 2), padding='same'))\n",
    "\n"
   ]
  },
  {
   "cell_type": "code",
   "execution_count": 7,
   "id": "ffec5388-ccec-4267-ba48-9e36752ad3df",
   "metadata": {},
   "outputs": [],
   "source": [
    "model = Sequential()"
   ]
  },
  {
   "cell_type": "code",
   "execution_count": 8,
   "id": "6e2d49e5-6b0c-4fd5-aea7-167f6577f89a",
   "metadata": {},
   "outputs": [],
   "source": [
    "classifier.add(Flatten())"
   ]
  },
  {
   "cell_type": "code",
   "execution_count": 9,
   "id": "9f1a9431-671a-4cd6-9a76-db20a1939247",
   "metadata": {},
   "outputs": [],
   "source": [
    "#hidden layer\n",
    "classifier.add(Dense(units = 128, activation = 'relu'))\n",
    "classifier.add(Dropout(rate= 0.5))"
   ]
  },
  {
   "cell_type": "code",
   "execution_count": 10,
   "id": "86c1cb58-6a01-4a46-a42d-3ed2370fb173",
   "metadata": {},
   "outputs": [],
   "source": [
    "#output layer\n",
    "classifier.add(Dense(units = 10, activation = 'softmax'))"
   ]
  },
  {
   "cell_type": "code",
   "execution_count": 15,
   "id": "01d6a82a-fc4f-4bf2-beb9-f583a11019ef",
   "metadata": {},
   "outputs": [
    {
     "name": "stdout",
     "output_type": "stream",
     "text": [
      "Found 10000 images belonging to 10 classes.\n",
      "Found 1008 images belonging to 10 classes.\n"
     ]
    }
   ],
   "source": [
    "from tensorflow.keras.preprocessing.image import ImageDataGenerator\n",
    "from tensorflow.keras.models import Sequential\n",
    "from tensorflow.keras.layers import Conv2D, MaxPooling2D, Flatten, Dense, Dropout\n",
    "\n",
    "\n",
    "# Step 1: Data Loading\n",
    "train_datagen = ImageDataGenerator(\n",
    "    rescale=1./255,\n",
    "    shear_range=0.2,\n",
    "    zoom_range=0.2,\n",
    "    horizontal_flip=True\n",
    ")\n",
    "\n",
    "test_datagen = ImageDataGenerator(rescale=1./255)\n",
    "\n",
    "training_set = train_datagen.flow_from_directory(\n",
    "    'train',\n",
    "    target_size=(128, 128),\n",
    "    batch_size=64,\n",
    "    class_mode='categorical'\n",
    ")\n",
    "\n",
    "test_set = test_datagen.flow_from_directory(\n",
    "    'valid',\n",
    "    target_size=(128, 128),\n",
    "    batch_size=64,\n",
    "    class_mode='categorical'\n",
    ")\n",
    "\n",
    "# Get number of output classes\n",
    "num_classes = len(training_set.class_indices)\n",
    "\n",
    "# Step 2: Define the Model\n",
    "classifier = Sequential([\n",
    "    Conv2D(64, (3, 3), activation='relu', input_shape=(128, 128, 3)),\n",
    "    MaxPooling2D(pool_size=(2, 2)),\n",
    "\n",
    "    Conv2D(128, (3, 3), activation='relu'),\n",
    "    MaxPooling2D(pool_size=(2, 2)),\n",
    "\n",
    "    Conv2D(128, (3, 3), activation='relu'),\n",
    "    MaxPooling2D(pool_size=(2, 2)),\n",
    "\n",
    "    Flatten(),\n",
    "    Dense(256, activation='relu'),\n",
    "    Dropout(0.5),\n",
    "    Dense(num_classes, activation='softmax')\n",
    "])"
   ]
  },
  {
   "cell_type": "code",
   "execution_count": 16,
   "id": "bb03b8a5-eb5a-4d84-b5b3-a92f9ca69400",
   "metadata": {},
   "outputs": [
    {
     "data": {
      "text/html": [
       "<pre style=\"white-space:pre;overflow-x:auto;line-height:normal;font-family:Menlo,'DejaVu Sans Mono',consolas,'Courier New',monospace\"><span style=\"font-weight: bold\">Model: \"sequential_2\"</span>\n",
       "</pre>\n"
      ],
      "text/plain": [
       "\u001b[1mModel: \"sequential_2\"\u001b[0m\n"
      ]
     },
     "metadata": {},
     "output_type": "display_data"
    },
    {
     "data": {
      "text/html": [
       "<pre style=\"white-space:pre;overflow-x:auto;line-height:normal;font-family:Menlo,'DejaVu Sans Mono',consolas,'Courier New',monospace\">┏━━━━━━━━━━━━━━━━━━━━━━━━━━━━━━━━━━━━━━┳━━━━━━━━━━━━━━━━━━━━━━━━━━━━━┳━━━━━━━━━━━━━━━━━┓\n",
       "┃<span style=\"font-weight: bold\"> Layer (type)                         </span>┃<span style=\"font-weight: bold\"> Output Shape                </span>┃<span style=\"font-weight: bold\">         Param # </span>┃\n",
       "┡━━━━━━━━━━━━━━━━━━━━━━━━━━━━━━━━━━━━━━╇━━━━━━━━━━━━━━━━━━━━━━━━━━━━━╇━━━━━━━━━━━━━━━━━┩\n",
       "│ conv2d_9 (<span style=\"color: #0087ff; text-decoration-color: #0087ff\">Conv2D</span>)                    │ (<span style=\"color: #00d7ff; text-decoration-color: #00d7ff\">None</span>, <span style=\"color: #00af00; text-decoration-color: #00af00\">126</span>, <span style=\"color: #00af00; text-decoration-color: #00af00\">126</span>, <span style=\"color: #00af00; text-decoration-color: #00af00\">64</span>)        │           <span style=\"color: #00af00; text-decoration-color: #00af00\">1,792</span> │\n",
       "├──────────────────────────────────────┼─────────────────────────────┼─────────────────┤\n",
       "│ max_pooling2d_9 (<span style=\"color: #0087ff; text-decoration-color: #0087ff\">MaxPooling2D</span>)       │ (<span style=\"color: #00d7ff; text-decoration-color: #00d7ff\">None</span>, <span style=\"color: #00af00; text-decoration-color: #00af00\">63</span>, <span style=\"color: #00af00; text-decoration-color: #00af00\">63</span>, <span style=\"color: #00af00; text-decoration-color: #00af00\">64</span>)          │               <span style=\"color: #00af00; text-decoration-color: #00af00\">0</span> │\n",
       "├──────────────────────────────────────┼─────────────────────────────┼─────────────────┤\n",
       "│ conv2d_10 (<span style=\"color: #0087ff; text-decoration-color: #0087ff\">Conv2D</span>)                   │ (<span style=\"color: #00d7ff; text-decoration-color: #00d7ff\">None</span>, <span style=\"color: #00af00; text-decoration-color: #00af00\">61</span>, <span style=\"color: #00af00; text-decoration-color: #00af00\">61</span>, <span style=\"color: #00af00; text-decoration-color: #00af00\">128</span>)         │          <span style=\"color: #00af00; text-decoration-color: #00af00\">73,856</span> │\n",
       "├──────────────────────────────────────┼─────────────────────────────┼─────────────────┤\n",
       "│ max_pooling2d_10 (<span style=\"color: #0087ff; text-decoration-color: #0087ff\">MaxPooling2D</span>)      │ (<span style=\"color: #00d7ff; text-decoration-color: #00d7ff\">None</span>, <span style=\"color: #00af00; text-decoration-color: #00af00\">30</span>, <span style=\"color: #00af00; text-decoration-color: #00af00\">30</span>, <span style=\"color: #00af00; text-decoration-color: #00af00\">128</span>)         │               <span style=\"color: #00af00; text-decoration-color: #00af00\">0</span> │\n",
       "├──────────────────────────────────────┼─────────────────────────────┼─────────────────┤\n",
       "│ conv2d_11 (<span style=\"color: #0087ff; text-decoration-color: #0087ff\">Conv2D</span>)                   │ (<span style=\"color: #00d7ff; text-decoration-color: #00d7ff\">None</span>, <span style=\"color: #00af00; text-decoration-color: #00af00\">28</span>, <span style=\"color: #00af00; text-decoration-color: #00af00\">28</span>, <span style=\"color: #00af00; text-decoration-color: #00af00\">128</span>)         │         <span style=\"color: #00af00; text-decoration-color: #00af00\">147,584</span> │\n",
       "├──────────────────────────────────────┼─────────────────────────────┼─────────────────┤\n",
       "│ max_pooling2d_11 (<span style=\"color: #0087ff; text-decoration-color: #0087ff\">MaxPooling2D</span>)      │ (<span style=\"color: #00d7ff; text-decoration-color: #00d7ff\">None</span>, <span style=\"color: #00af00; text-decoration-color: #00af00\">14</span>, <span style=\"color: #00af00; text-decoration-color: #00af00\">14</span>, <span style=\"color: #00af00; text-decoration-color: #00af00\">128</span>)         │               <span style=\"color: #00af00; text-decoration-color: #00af00\">0</span> │\n",
       "├──────────────────────────────────────┼─────────────────────────────┼─────────────────┤\n",
       "│ flatten_3 (<span style=\"color: #0087ff; text-decoration-color: #0087ff\">Flatten</span>)                  │ (<span style=\"color: #00d7ff; text-decoration-color: #00d7ff\">None</span>, <span style=\"color: #00af00; text-decoration-color: #00af00\">25088</span>)               │               <span style=\"color: #00af00; text-decoration-color: #00af00\">0</span> │\n",
       "├──────────────────────────────────────┼─────────────────────────────┼─────────────────┤\n",
       "│ dense_4 (<span style=\"color: #0087ff; text-decoration-color: #0087ff\">Dense</span>)                      │ (<span style=\"color: #00d7ff; text-decoration-color: #00d7ff\">None</span>, <span style=\"color: #00af00; text-decoration-color: #00af00\">256</span>)                 │       <span style=\"color: #00af00; text-decoration-color: #00af00\">6,422,784</span> │\n",
       "├──────────────────────────────────────┼─────────────────────────────┼─────────────────┤\n",
       "│ dropout_3 (<span style=\"color: #0087ff; text-decoration-color: #0087ff\">Dropout</span>)                  │ (<span style=\"color: #00d7ff; text-decoration-color: #00d7ff\">None</span>, <span style=\"color: #00af00; text-decoration-color: #00af00\">256</span>)                 │               <span style=\"color: #00af00; text-decoration-color: #00af00\">0</span> │\n",
       "├──────────────────────────────────────┼─────────────────────────────┼─────────────────┤\n",
       "│ dense_5 (<span style=\"color: #0087ff; text-decoration-color: #0087ff\">Dense</span>)                      │ (<span style=\"color: #00d7ff; text-decoration-color: #00d7ff\">None</span>, <span style=\"color: #00af00; text-decoration-color: #00af00\">10</span>)                  │           <span style=\"color: #00af00; text-decoration-color: #00af00\">2,570</span> │\n",
       "└──────────────────────────────────────┴─────────────────────────────┴─────────────────┘\n",
       "</pre>\n"
      ],
      "text/plain": [
       "┏━━━━━━━━━━━━━━━━━━━━━━━━━━━━━━━━━━━━━━┳━━━━━━━━━━━━━━━━━━━━━━━━━━━━━┳━━━━━━━━━━━━━━━━━┓\n",
       "┃\u001b[1m \u001b[0m\u001b[1mLayer (type)                        \u001b[0m\u001b[1m \u001b[0m┃\u001b[1m \u001b[0m\u001b[1mOutput Shape               \u001b[0m\u001b[1m \u001b[0m┃\u001b[1m \u001b[0m\u001b[1m        Param #\u001b[0m\u001b[1m \u001b[0m┃\n",
       "┡━━━━━━━━━━━━━━━━━━━━━━━━━━━━━━━━━━━━━━╇━━━━━━━━━━━━━━━━━━━━━━━━━━━━━╇━━━━━━━━━━━━━━━━━┩\n",
       "│ conv2d_9 (\u001b[38;5;33mConv2D\u001b[0m)                    │ (\u001b[38;5;45mNone\u001b[0m, \u001b[38;5;34m126\u001b[0m, \u001b[38;5;34m126\u001b[0m, \u001b[38;5;34m64\u001b[0m)        │           \u001b[38;5;34m1,792\u001b[0m │\n",
       "├──────────────────────────────────────┼─────────────────────────────┼─────────────────┤\n",
       "│ max_pooling2d_9 (\u001b[38;5;33mMaxPooling2D\u001b[0m)       │ (\u001b[38;5;45mNone\u001b[0m, \u001b[38;5;34m63\u001b[0m, \u001b[38;5;34m63\u001b[0m, \u001b[38;5;34m64\u001b[0m)          │               \u001b[38;5;34m0\u001b[0m │\n",
       "├──────────────────────────────────────┼─────────────────────────────┼─────────────────┤\n",
       "│ conv2d_10 (\u001b[38;5;33mConv2D\u001b[0m)                   │ (\u001b[38;5;45mNone\u001b[0m, \u001b[38;5;34m61\u001b[0m, \u001b[38;5;34m61\u001b[0m, \u001b[38;5;34m128\u001b[0m)         │          \u001b[38;5;34m73,856\u001b[0m │\n",
       "├──────────────────────────────────────┼─────────────────────────────┼─────────────────┤\n",
       "│ max_pooling2d_10 (\u001b[38;5;33mMaxPooling2D\u001b[0m)      │ (\u001b[38;5;45mNone\u001b[0m, \u001b[38;5;34m30\u001b[0m, \u001b[38;5;34m30\u001b[0m, \u001b[38;5;34m128\u001b[0m)         │               \u001b[38;5;34m0\u001b[0m │\n",
       "├──────────────────────────────────────┼─────────────────────────────┼─────────────────┤\n",
       "│ conv2d_11 (\u001b[38;5;33mConv2D\u001b[0m)                   │ (\u001b[38;5;45mNone\u001b[0m, \u001b[38;5;34m28\u001b[0m, \u001b[38;5;34m28\u001b[0m, \u001b[38;5;34m128\u001b[0m)         │         \u001b[38;5;34m147,584\u001b[0m │\n",
       "├──────────────────────────────────────┼─────────────────────────────┼─────────────────┤\n",
       "│ max_pooling2d_11 (\u001b[38;5;33mMaxPooling2D\u001b[0m)      │ (\u001b[38;5;45mNone\u001b[0m, \u001b[38;5;34m14\u001b[0m, \u001b[38;5;34m14\u001b[0m, \u001b[38;5;34m128\u001b[0m)         │               \u001b[38;5;34m0\u001b[0m │\n",
       "├──────────────────────────────────────┼─────────────────────────────┼─────────────────┤\n",
       "│ flatten_3 (\u001b[38;5;33mFlatten\u001b[0m)                  │ (\u001b[38;5;45mNone\u001b[0m, \u001b[38;5;34m25088\u001b[0m)               │               \u001b[38;5;34m0\u001b[0m │\n",
       "├──────────────────────────────────────┼─────────────────────────────┼─────────────────┤\n",
       "│ dense_4 (\u001b[38;5;33mDense\u001b[0m)                      │ (\u001b[38;5;45mNone\u001b[0m, \u001b[38;5;34m256\u001b[0m)                 │       \u001b[38;5;34m6,422,784\u001b[0m │\n",
       "├──────────────────────────────────────┼─────────────────────────────┼─────────────────┤\n",
       "│ dropout_3 (\u001b[38;5;33mDropout\u001b[0m)                  │ (\u001b[38;5;45mNone\u001b[0m, \u001b[38;5;34m256\u001b[0m)                 │               \u001b[38;5;34m0\u001b[0m │\n",
       "├──────────────────────────────────────┼─────────────────────────────┼─────────────────┤\n",
       "│ dense_5 (\u001b[38;5;33mDense\u001b[0m)                      │ (\u001b[38;5;45mNone\u001b[0m, \u001b[38;5;34m10\u001b[0m)                  │           \u001b[38;5;34m2,570\u001b[0m │\n",
       "└──────────────────────────────────────┴─────────────────────────────┴─────────────────┘\n"
      ]
     },
     "metadata": {},
     "output_type": "display_data"
    },
    {
     "data": {
      "text/html": [
       "<pre style=\"white-space:pre;overflow-x:auto;line-height:normal;font-family:Menlo,'DejaVu Sans Mono',consolas,'Courier New',monospace\"><span style=\"font-weight: bold\"> Total params: </span><span style=\"color: #00af00; text-decoration-color: #00af00\">6,648,586</span> (25.36 MB)\n",
       "</pre>\n"
      ],
      "text/plain": [
       "\u001b[1m Total params: \u001b[0m\u001b[38;5;34m6,648,586\u001b[0m (25.36 MB)\n"
      ]
     },
     "metadata": {},
     "output_type": "display_data"
    },
    {
     "data": {
      "text/html": [
       "<pre style=\"white-space:pre;overflow-x:auto;line-height:normal;font-family:Menlo,'DejaVu Sans Mono',consolas,'Courier New',monospace\"><span style=\"font-weight: bold\"> Trainable params: </span><span style=\"color: #00af00; text-decoration-color: #00af00\">6,648,586</span> (25.36 MB)\n",
       "</pre>\n"
      ],
      "text/plain": [
       "\u001b[1m Trainable params: \u001b[0m\u001b[38;5;34m6,648,586\u001b[0m (25.36 MB)\n"
      ]
     },
     "metadata": {},
     "output_type": "display_data"
    },
    {
     "data": {
      "text/html": [
       "<pre style=\"white-space:pre;overflow-x:auto;line-height:normal;font-family:Menlo,'DejaVu Sans Mono',consolas,'Courier New',monospace\"><span style=\"font-weight: bold\"> Non-trainable params: </span><span style=\"color: #00af00; text-decoration-color: #00af00\">0</span> (0.00 B)\n",
       "</pre>\n"
      ],
      "text/plain": [
       "\u001b[1m Non-trainable params: \u001b[0m\u001b[38;5;34m0\u001b[0m (0.00 B)\n"
      ]
     },
     "metadata": {},
     "output_type": "display_data"
    },
    {
     "name": "stdout",
     "output_type": "stream",
     "text": [
      "None\n"
     ]
    }
   ],
   "source": [
    "classifier.compile(optimizer = 'adam', loss = 'categorical_crossentropy', metrics = ['accuracy'])\n",
    "print(classifier.summary())"
   ]
  },
  {
   "cell_type": "code",
   "execution_count": 17,
   "id": "c4204f31-990f-4b98-bad1-b4e0fb2012d6",
   "metadata": {},
   "outputs": [],
   "source": [
    "from keras.callbacks import EarlyStopping, ModelCheckpoint\n",
    "\n",
    "early_stop = EarlyStopping(monitor='val_loss', patience=5, restore_best_weights=True)\n",
    "checkpoint = ModelCheckpoint('best_model.h5', monitor='val_loss', save_best_only=True)\n"
   ]
  },
  {
   "cell_type": "code",
   "execution_count": 21,
   "id": "6c8be5b8-605a-4ad5-b00e-6ab13fd55731",
   "metadata": {},
   "outputs": [],
   "source": [
    "from tensorflow.keras.preprocessing.image import ImageDataGenerator\n"
   ]
  },
  {
   "cell_type": "code",
   "execution_count": 23,
   "id": "c99d1e0c-c463-481b-8896-dbb55878d812",
   "metadata": {},
   "outputs": [
    {
     "name": "stdout",
     "output_type": "stream",
     "text": [
      "Found 1008 images belonging to 10 classes.\n"
     ]
    }
   ],
   "source": [
    "test_set = test_datagen.flow_from_directory(\n",
    "        'valid',\n",
    "        target_size=(128, 128),\n",
    "        batch_size=64,\n",
    "        class_mode='categorical')"
   ]
  },
  {
   "cell_type": "code",
   "execution_count": 24,
   "id": "b2da9fb6-28d0-43f5-8536-a8adcaac8e06",
   "metadata": {},
   "outputs": [
    {
     "name": "stdout",
     "output_type": "stream",
     "text": [
      "Training samples: 10000\n",
      "Validation samples: 1008\n",
      "Batch size: 64\n"
     ]
    }
   ],
   "source": [
    "print(\"Training samples:\", training_set.samples)\n",
    "print(\"Validation samples:\", test_set.samples)\n",
    "print(\"Batch size:\", training_set.batch_size)\n"
   ]
  },
  {
   "cell_type": "code",
   "execution_count": 26,
   "id": "7331420e-ea30-4dc3-a304-c9d90a5e76c1",
   "metadata": {},
   "outputs": [
    {
     "name": "stdout",
     "output_type": "stream",
     "text": [
      "Epoch 1/30\n",
      "\u001b[1m157/157\u001b[0m \u001b[32m━━━━━━━━━━━━━━━━━━━━\u001b[0m\u001b[37m\u001b[0m \u001b[1m275s\u001b[0m 2s/step - accuracy: 0.4079 - loss: 1.6470 - val_accuracy: 0.6260 - val_loss: 1.0740\n",
      "Epoch 2/30\n",
      "\u001b[1m157/157\u001b[0m \u001b[32m━━━━━━━━━━━━━━━━━━━━\u001b[0m\u001b[37m\u001b[0m \u001b[1m275s\u001b[0m 2s/step - accuracy: 0.6921 - loss: 0.8642 - val_accuracy: 0.7192 - val_loss: 0.8379\n",
      "Epoch 3/30\n",
      "\u001b[1m157/157\u001b[0m \u001b[32m━━━━━━━━━━━━━━━━━━━━\u001b[0m\u001b[37m\u001b[0m \u001b[1m444s\u001b[0m 3s/step - accuracy: 0.7673 - loss: 0.6819 - val_accuracy: 0.7758 - val_loss: 0.6807\n",
      "Epoch 4/30\n",
      "\u001b[1m157/157\u001b[0m \u001b[32m━━━━━━━━━━━━━━━━━━━━\u001b[0m\u001b[37m\u001b[0m \u001b[1m283s\u001b[0m 2s/step - accuracy: 0.8126 - loss: 0.5359 - val_accuracy: 0.8036 - val_loss: 0.6168\n",
      "Epoch 5/30\n",
      "\u001b[1m157/157\u001b[0m \u001b[32m━━━━━━━━━━━━━━━━━━━━\u001b[0m\u001b[37m\u001b[0m \u001b[1m296s\u001b[0m 2s/step - accuracy: 0.8267 - loss: 0.4868 - val_accuracy: 0.7232 - val_loss: 0.8355\n",
      "Epoch 6/30\n",
      "\u001b[1m157/157\u001b[0m \u001b[32m━━━━━━━━━━━━━━━━━━━━\u001b[0m\u001b[37m\u001b[0m \u001b[1m297s\u001b[0m 2s/step - accuracy: 0.8532 - loss: 0.4308 - val_accuracy: 0.6925 - val_loss: 1.3307\n",
      "Epoch 7/30\n",
      "\u001b[1m157/157\u001b[0m \u001b[32m━━━━━━━━━━━━━━━━━━━━\u001b[0m\u001b[37m\u001b[0m \u001b[1m291s\u001b[0m 2s/step - accuracy: 0.8573 - loss: 0.4181 - val_accuracy: 0.7907 - val_loss: 0.6059\n",
      "Epoch 8/30\n",
      "\u001b[1m157/157\u001b[0m \u001b[32m━━━━━━━━━━━━━━━━━━━━\u001b[0m\u001b[37m\u001b[0m \u001b[1m278s\u001b[0m 2s/step - accuracy: 0.8660 - loss: 0.3825 - val_accuracy: 0.7669 - val_loss: 0.7381\n",
      "Epoch 9/30\n",
      "\u001b[1m157/157\u001b[0m \u001b[32m━━━━━━━━━━━━━━━━━━━━\u001b[0m\u001b[37m\u001b[0m \u001b[1m278s\u001b[0m 2s/step - accuracy: 0.8830 - loss: 0.3350 - val_accuracy: 0.8442 - val_loss: 0.4777\n",
      "Epoch 10/30\n",
      "\u001b[1m157/157\u001b[0m \u001b[32m━━━━━━━━━━━━━━━━━━━━\u001b[0m\u001b[37m\u001b[0m \u001b[1m276s\u001b[0m 2s/step - accuracy: 0.8896 - loss: 0.3071 - val_accuracy: 0.7986 - val_loss: 0.6366\n",
      "Epoch 11/30\n",
      "\u001b[1m157/157\u001b[0m \u001b[32m━━━━━━━━━━━━━━━━━━━━\u001b[0m\u001b[37m\u001b[0m \u001b[1m274s\u001b[0m 2s/step - accuracy: 0.9022 - loss: 0.2800 - val_accuracy: 0.8403 - val_loss: 0.5462\n",
      "Epoch 12/30\n",
      "\u001b[1m157/157\u001b[0m \u001b[32m━━━━━━━━━━━━━━━━━━━━\u001b[0m\u001b[37m\u001b[0m \u001b[1m274s\u001b[0m 2s/step - accuracy: 0.9036 - loss: 0.2900 - val_accuracy: 0.8760 - val_loss: 0.4013\n",
      "Epoch 13/30\n",
      "\u001b[1m157/157\u001b[0m \u001b[32m━━━━━━━━━━━━━━━━━━━━\u001b[0m\u001b[37m\u001b[0m \u001b[1m278s\u001b[0m 2s/step - accuracy: 0.8973 - loss: 0.2959 - val_accuracy: 0.8581 - val_loss: 0.4436\n",
      "Epoch 14/30\n",
      "\u001b[1m157/157\u001b[0m \u001b[32m━━━━━━━━━━━━━━━━━━━━\u001b[0m\u001b[37m\u001b[0m \u001b[1m295s\u001b[0m 2s/step - accuracy: 0.9122 - loss: 0.2482 - val_accuracy: 0.8512 - val_loss: 0.5220\n",
      "Epoch 15/30\n",
      "\u001b[1m157/157\u001b[0m \u001b[32m━━━━━━━━━━━━━━━━━━━━\u001b[0m\u001b[37m\u001b[0m \u001b[1m273s\u001b[0m 2s/step - accuracy: 0.9118 - loss: 0.2363 - val_accuracy: 0.8155 - val_loss: 0.6164\n",
      "Epoch 16/30\n",
      "\u001b[1m157/157\u001b[0m \u001b[32m━━━━━━━━━━━━━━━━━━━━\u001b[0m\u001b[37m\u001b[0m \u001b[1m273s\u001b[0m 2s/step - accuracy: 0.9242 - loss: 0.2122 - val_accuracy: 0.8740 - val_loss: 0.3917\n",
      "Epoch 17/30\n",
      "\u001b[1m157/157\u001b[0m \u001b[32m━━━━━━━━━━━━━━━━━━━━\u001b[0m\u001b[37m\u001b[0m \u001b[1m273s\u001b[0m 2s/step - accuracy: 0.9221 - loss: 0.2269 - val_accuracy: 0.8958 - val_loss: 0.3777\n",
      "Epoch 18/30\n",
      "\u001b[1m157/157\u001b[0m \u001b[32m━━━━━━━━━━━━━━━━━━━━\u001b[0m\u001b[37m\u001b[0m \u001b[1m277s\u001b[0m 2s/step - accuracy: 0.9296 - loss: 0.2009 - val_accuracy: 0.8194 - val_loss: 0.7261\n",
      "Epoch 19/30\n",
      "\u001b[1m157/157\u001b[0m \u001b[32m━━━━━━━━━━━━━━━━━━━━\u001b[0m\u001b[37m\u001b[0m \u001b[1m272s\u001b[0m 2s/step - accuracy: 0.9167 - loss: 0.2266 - val_accuracy: 0.8224 - val_loss: 0.6195\n",
      "Epoch 20/30\n",
      "\u001b[1m157/157\u001b[0m \u001b[32m━━━━━━━━━━━━━━━━━━━━\u001b[0m\u001b[37m\u001b[0m \u001b[1m278s\u001b[0m 2s/step - accuracy: 0.9434 - loss: 0.1678 - val_accuracy: 0.8700 - val_loss: 0.4794\n",
      "Epoch 21/30\n",
      "\u001b[1m157/157\u001b[0m \u001b[32m━━━━━━━━━━━━━━━━━━━━\u001b[0m\u001b[37m\u001b[0m \u001b[1m285s\u001b[0m 2s/step - accuracy: 0.9429 - loss: 0.1687 - val_accuracy: 0.7222 - val_loss: 1.2376\n",
      "Epoch 22/30\n",
      "\u001b[1m157/157\u001b[0m \u001b[32m━━━━━━━━━━━━━━━━━━━━\u001b[0m\u001b[37m\u001b[0m \u001b[1m280s\u001b[0m 2s/step - accuracy: 0.9375 - loss: 0.1850 - val_accuracy: 0.8968 - val_loss: 0.3625\n",
      "Epoch 23/30\n",
      "\u001b[1m157/157\u001b[0m \u001b[32m━━━━━━━━━━━━━━━━━━━━\u001b[0m\u001b[37m\u001b[0m \u001b[1m277s\u001b[0m 2s/step - accuracy: 0.9378 - loss: 0.1774 - val_accuracy: 0.8710 - val_loss: 0.4769\n",
      "Epoch 24/30\n",
      "\u001b[1m157/157\u001b[0m \u001b[32m━━━━━━━━━━━━━━━━━━━━\u001b[0m\u001b[37m\u001b[0m \u001b[1m278s\u001b[0m 2s/step - accuracy: 0.9473 - loss: 0.1646 - val_accuracy: 0.8313 - val_loss: 0.6573\n",
      "Epoch 25/30\n",
      "\u001b[1m157/157\u001b[0m \u001b[32m━━━━━━━━━━━━━━━━━━━━\u001b[0m\u001b[37m\u001b[0m \u001b[1m278s\u001b[0m 2s/step - accuracy: 0.9515 - loss: 0.1456 - val_accuracy: 0.8750 - val_loss: 0.5300\n",
      "Epoch 26/30\n",
      "\u001b[1m157/157\u001b[0m \u001b[32m━━━━━━━━━━━━━━━━━━━━\u001b[0m\u001b[37m\u001b[0m \u001b[1m276s\u001b[0m 2s/step - accuracy: 0.9433 - loss: 0.1628 - val_accuracy: 0.8353 - val_loss: 0.6440\n",
      "Epoch 27/30\n",
      "\u001b[1m157/157\u001b[0m \u001b[32m━━━━━━━━━━━━━━━━━━━━\u001b[0m\u001b[37m\u001b[0m \u001b[1m272s\u001b[0m 2s/step - accuracy: 0.9552 - loss: 0.1271 - val_accuracy: 0.8333 - val_loss: 0.6569\n",
      "Epoch 28/30\n",
      "\u001b[1m157/157\u001b[0m \u001b[32m━━━━━━━━━━━━━━━━━━━━\u001b[0m\u001b[37m\u001b[0m \u001b[1m278s\u001b[0m 2s/step - accuracy: 0.9509 - loss: 0.1430 - val_accuracy: 0.8393 - val_loss: 0.6993\n",
      "Epoch 29/30\n",
      "\u001b[1m157/157\u001b[0m \u001b[32m━━━━━━━━━━━━━━━━━━━━\u001b[0m\u001b[37m\u001b[0m \u001b[1m274s\u001b[0m 2s/step - accuracy: 0.9485 - loss: 0.1431 - val_accuracy: 0.8611 - val_loss: 0.5632\n",
      "Epoch 30/30\n",
      "\u001b[1m157/157\u001b[0m \u001b[32m━━━━━━━━━━━━━━━━━━━━\u001b[0m\u001b[37m\u001b[0m \u001b[1m278s\u001b[0m 2s/step - accuracy: 0.9571 - loss: 0.1269 - val_accuracy: 0.8800 - val_loss: 0.4787\n"
     ]
    }
   ],
   "source": [
    "history = classifier.fit(\n",
    "    training_set,\n",
    "    steps_per_epoch=len(training_set),  # Number of batches per epoch\n",
    "    epochs=30,\n",
    "    validation_data=test_set,\n",
    "    validation_steps=len(test_set)  # Number of validation batches per epoch\n",
    ")\n",
    "\n",
    "\n"
   ]
  },
  {
   "cell_type": "code",
   "execution_count": 28,
   "id": "7bf9a36b-cae6-4ce1-aa4f-3f98dc110407",
   "metadata": {},
   "outputs": [
    {
     "data": {
      "image/png": "[encoded data removed]",
      "text/plain": [
       "<Figure size 1200x600 with 2 Axes>"
      ]
     },
     "metadata": {},
     "output_type": "display_data"
    }
   ],
   "source": [
    "# Plot accuracy\n",
    "# Plot accuracy and loss\n",
    "import matplotlib.pyplot as plt\n",
    "plt.figure(figsize=(12, 6))\n",
    "\n",
    "plt.subplot(1, 2, 1)\n",
    "plt.plot(history.history['accuracy'], label='Training Accuracy')\n",
    "plt.plot(history.history['val_accuracy'], label='Validation Accuracy')\n",
    "plt.title('Training and Validation Accuracy')\n",
    "plt.xlabel('Epochs')\n",
    "plt.ylabel('Accuracy')\n",
    "plt.legend()\n",
    "\n",
    "# Plot loss\n",
    "plt.subplot(1, 2, 2)\n",
    "plt.plot(history.history['loss'], label='Training Loss')\n",
    "plt.plot(history.history['val_loss'], label='Validation Loss')\n",
    "plt.title('Training and Validation Loss')\n",
    "plt.xlabel('Epochs')\n",
    "plt.ylabel('Loss')\n",
    "plt.legend()\n",
    "\n",
    "plt.tight_layout()\n",
    "plt.show()"
   ]
  },
  {
   "cell_type": "code",
   "execution_count": 29,
   "id": "36d1bfe3-0de0-44b0-afc3-8a1552e3b52a",
   "metadata": {},
   "outputs": [
    {
     "name": "stdout",
     "output_type": "stream",
     "text": [
      "\u001b[1m157/157\u001b[0m \u001b[32m━━━━━━━━━━━━━━━━━━━━\u001b[0m\u001b[37m\u001b[0m \u001b[1m130s\u001b[0m 825ms/step - accuracy: 0.9867 - loss: 0.0389\n",
      "Training Accuracy: 0.9881, Training Loss: 0.0376\n",
      "\u001b[1m16/16\u001b[0m \u001b[32m━━━━━━━━━━━━━━━━━━━━\u001b[0m\u001b[37m\u001b[0m \u001b[1m7s\u001b[0m 432ms/step - accuracy: 0.8605 - loss: 0.5962\n",
      "Validation Accuracy: 0.8800, Validation Loss: 0.4787\n"
     ]
    }
   ],
   "source": [
    "# Model Evaluation on Training set\n",
    "train_loss, train_acc = classifier.evaluate(training_set)\n",
    "print(f\"Training Accuracy: {train_acc:.4f}, Training Loss: {train_loss:.4f}\")\n",
    "\n",
    "# Model Evaluation on Validation set\n",
    "val_loss, val_acc = classifier.evaluate(test_set)\n",
    "print(f\"Validation Accuracy: {val_acc:.4f}, Validation Loss: {val_loss:.4f}\")\n"
   ]
  },
  {
   "cell_type": "code",
   "execution_count": 30,
   "id": "825c5918-76cf-4e31-8943-1d25b76ccab4",
   "metadata": {},
   "outputs": [
    {
     "name": "stdout",
     "output_type": "stream",
     "text": [
      "0.037634704262018204 0.988099992275238\n"
     ]
    }
   ],
   "source": [
    "print(train_loss,train_acc)"
   ]
  },
  {
   "cell_type": "code",
   "execution_count": 31,
   "id": "af2f380b-7d50-4de1-89f3-b0bfbf2f9ed6",
   "metadata": {},
   "outputs": [
    {
     "name": "stdout",
     "output_type": "stream",
     "text": [
      "0.47869953513145447 0.879960298538208\n"
     ]
    }
   ],
   "source": [
    "print(val_loss,val_acc)"
   ]
  },
  {
   "cell_type": "code",
   "execution_count": 32,
   "id": "ff488c1e-0713-47a4-a24f-a7ba799b26c4",
   "metadata": {},
   "outputs": [
    {
     "data": {
      "text/plain": [
       "{'Tomato___Bacterial_spot': 0,\n",
       " 'Tomato___Early_blight': 1,\n",
       " 'Tomato___Late_blight': 2,\n",
       " 'Tomato___Leaf_Mold': 3,\n",
       " 'Tomato___Septoria_leaf_spot': 4,\n",
       " 'Tomato___Spider_mites Two-spotted_spider_mite': 5,\n",
       " 'Tomato___Target_Spot': 6,\n",
       " 'Tomato___Tomato_Yellow_Leaf_Curl_Virus': 7,\n",
       " 'Tomato___Tomato_mosaic_virus': 8,\n",
       " 'Tomato___healthy': 9}"
      ]
     },
     "execution_count": 32,
     "metadata": {},
     "output_type": "execute_result"
    }
   ],
   "source": [
    "class_name = test_set.class_indices\n",
    "class_name\n"
   ]
  },
  {
   "cell_type": "code",
   "execution_count": 33,
   "id": "dbf84e51-6426-4e54-9dec-54b4bf13f339",
   "metadata": {},
   "outputs": [
    {
     "name": "stderr",
     "output_type": "stream",
     "text": [
      "WARNING:absl:You are saving your model as an HDF5 file via `model.save()` or `keras.saving.save_model(model)`. This file format is considered legacy. We recommend using instead the native Keras format, e.g. `model.save('my_model.keras')` or `keras.saving.save_model(model, 'my_model.keras')`. \n"
     ]
    }
   ],
   "source": [
    "classifier.save('full_model.h5')"
   ]
  },
  {
   "cell_type": "code",
   "execution_count": 36,
   "id": "0a37e630-705f-40e1-8add-b3c5f01bb977",
   "metadata": {},
   "outputs": [
    {
     "name": "stdout",
     "output_type": "stream",
     "text": [
      "Saved trained model as full_model.h5 \n"
     ]
    }
   ],
   "source": [
    "print('Saved trained model as %s ' % 'full_model.h5')"
   ]
  },
  {
   "cell_type": "code",
   "execution_count": null,
   "id": "4c7b64ad-66bf-41a9-bab4-eab7094c3015",
   "metadata": {},
   "outputs": [],
   "source": []
  }
 ],
 "metadata": {
  "kernelspec": {
   "display_name": "Python (tflow_env)",
   "language": "python",
   "name": "tflow_env"
  },
  "language_info": {
   "codemirror_mode": {
    "name": "ipython",
    "version": 3
   },
   "file_extension": ".py",
   "mimetype": "text/x-python",
   "name": "python",
   "nbconvert_exporter": "python",
   "pygments_lexer": "ipython3",
   "version": "3.10.16"
  }
 },
 "nbformat": 4,
 "nbformat_minor": 5
}
