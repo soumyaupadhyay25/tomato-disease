{
 "cells": [
  {
   "cell_type": "code",
   "execution_count": 21,
   "id": "8837f8ab-fd23-4093-b433-e2ea120467e7",
   "metadata": {},
   "outputs": [],
   "source": [
    "from tensorflow.keras.models import load_model\n",
    "from tensorflow.keras.preprocessing import image\n",
    "import numpy as np"
   ]
  },
  {
   "cell_type": "code",
   "execution_count": 23,
   "id": "e0332f3b-8e63-4940-b889-c9598f8a94c0",
   "metadata": {},
   "outputs": [],
   "source": [
    "# Load the model (if saved properly with model.save())\n",
    "model = load_model('full_model.h5')  # If you saved using model.save()"
   ]
  },
  {
   "cell_type": "code",
   "execution_count": 40,
   "id": "f368aa20-f314-48b8-9b1e-e7a7fcb49b65",
   "metadata": {},
   "outputs": [],
   "source": [
    "# Load and preprocess the image\n",
    "img = image.load_img('valid/Tomato___Tomato_mosaic_virus/0b5e2269-7b37-43ac-9a96-c62b9bba2383___PSU_CG 2243.JPG', target_size=(128, 128))\n",
    "img_array = image.img_to_array(img) / 255.0\n",
    "img_array = np.expand_dims(img_array, axis=0)"
   ]
  },
  {
   "cell_type": "code",
   "execution_count": 41,
   "id": "a04ca378-ee6a-4122-9c0d-42de1d7505f6",
   "metadata": {},
   "outputs": [
    {
     "name": "stdout",
     "output_type": "stream",
     "text": [
      "1/1 [==============================] - 0s 49ms/step\n"
     ]
    }
   ],
   "source": [
    "# Predict\n",
    "pred = model.predict(img_array)\n",
    "predicted_class = np.argmax(pred, axis=1)[0]"
   ]
  },
  {
   "cell_type": "code",
   "execution_count": 42,
   "id": "eef41f4c-7bc9-458c-9881-2d9ad104edc5",
   "metadata": {},
   "outputs": [
    {
     "name": "stdout",
     "output_type": "stream",
     "text": [
      "Found 10000 images belonging to 10 classes.\n"
     ]
    }
   ],
   "source": [
    "from keras.preprocessing.image import ImageDataGenerator\n",
    "\n",
    "# Re-initialize the same ImageDataGenerator as used during training\n",
    "train_datagen = ImageDataGenerator(rescale=1./255)\n",
    "\n",
    "# Reload the training set (only for accessing class_indices)\n",
    "training_set = train_datagen.flow_from_directory(\n",
    "    'train',  # Make sure this path is correct\n",
    "    target_size=(128, 128),\n",
    "    batch_size=64,\n",
    "    class_mode='categorical'\n",
    ")\n",
    "\n",
    "# Now you can access class indices\n",
    "class_map = {v: k for k, v in training_set.class_indices.items()}\n"
   ]
  },
  {
   "cell_type": "code",
   "execution_count": 43,
   "id": "39be87d3-6f9e-4331-b280-ef5c7bcad47d",
   "metadata": {},
   "outputs": [
    {
     "name": "stdout",
     "output_type": "stream",
     "text": [
      "Predicted Class: Tomato___Tomato_mosaic_virus\n"
     ]
    }
   ],
   "source": [
    "# Map predicted index to class name\n",
    "class_map = {v: k for k, v in training_set.class_indices.items()}\n",
    "print(\"Predicted Class:\", class_map[predicted_class])"
   ]
  },
  {
   "cell_type": "code",
   "execution_count": null,
   "id": "944668bb-f019-4477-a1bc-1512e7d47c3e",
   "metadata": {},
   "outputs": [],
   "source": []
  }
 ],
 "metadata": {
  "kernelspec": {
   "display_name": "Python (tflow_env)",
   "language": "python",
   "name": "tflow_env"
  },
  "language_info": {
   "codemirror_mode": {
    "name": "ipython",
    "version": 3
   },
   "file_extension": ".py",
   "mimetype": "text/x-python",
   "name": "python",
   "nbconvert_exporter": "python",
   "pygments_lexer": "ipython3",
   "version": "3.10.16"
  }
 },
 "nbformat": 4,
 "nbformat_minor": 5
}
